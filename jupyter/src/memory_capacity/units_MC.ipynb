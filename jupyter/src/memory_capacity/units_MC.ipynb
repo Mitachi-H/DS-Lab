{
 "cells": [
  {
   "cell_type": "code",
   "execution_count": 43,
   "metadata": {},
   "outputs": [],
   "source": [
    "import os\n",
    "import reservoirpy as rpy\n",
    "import numpy as np\n",
    "import pandas as pd\n",
    "from joblib import Parallel, delayed\n",
    "from sklearn.metrics import r2_score\n",
    "from reservoirpy.nodes import Reservoir, Ridge\n",
    "import logging\n",
    "import gc\n",
    "import pickle\n",
    "\n",
    "# ログ設定\n",
    "logging.basicConfig(level=logging.INFO, format=\"%(asctime)s - %(levelname)s - %(message)s\")\n",
    "\n",
    "# グローバル設定\n",
    "rpy.verbosity(0)  # Verboseモードを無効\n",
    "rpy.set_seed(42)  # 再現性のためのシード設定"
   ]
  },
  {
   "cell_type": "code",
   "execution_count": 44,
   "metadata": {},
   "outputs": [],
   "source": [
    "# パラメータ設定\n",
    "n_timesteps = 5000\n",
    "units_list = 100 * 2 ** np.arange(0, 6)  # 100, 200, 400, ..., 3200\n",
    "spectral_radii = np.linspace(0.1, 1.5, 10)  # スペクトル半径の範囲\n",
    "max_delay = 100  # 遅延数\n",
    "batch_size = 20  # バッチサイズを最適化\n",
    "\n",
    "# 結果保存先のディレクトリ\n",
    "output_dir = \"jupyter/src/memory_capacity/results\"\n",
    "os.makedirs(output_dir, exist_ok=True)  # ディレクトリがなければ作成"
   ]
  },
  {
   "cell_type": "code",
   "execution_count": 45,
   "metadata": {},
   "outputs": [],
   "source": [
    "# データ生成\n",
    "np.random.seed(42)\n",
    "input_signal = np.random.randn(n_timesteps).reshape(-1, 1)\n",
    "input_signal = (input_signal - np.mean(input_signal)) / np.std(input_signal)\n",
    "X = np.array([input_signal[:-d] for d in range(1, max_delay + 1)], dtype=object)\n",
    "Y = np.array([input_signal[d:] for d in range(1, max_delay + 1)], dtype=object)"
   ]
  },
  {
   "cell_type": "code",
   "execution_count": 46,
   "metadata": {},
   "outputs": [],
   "source": [
    "# ESN（Echo State Network）を作成\n",
    "def create_standard_esn(sr, units):\n",
    "    logging.info(f\"Creating ESN with spectral radius={sr} and units={units}\")\n",
    "    reservoir = Reservoir(units=units, input_scaling=1, lr=1, sr=sr)\n",
    "    readout = Ridge(output_dim=1, ridge=1e-5)\n",
    "    return reservoir >> readout"
   ]
  },
  {
   "cell_type": "code",
   "execution_count": 47,
   "metadata": {},
   "outputs": [],
   "source": [
    "# R^2スコアを計算\n",
    "def compute_r2(spectral_radius, units, input_signal, output_signal):\n",
    "    esn = create_standard_esn(spectral_radius, units)\n",
    "    esn.fit(input_signal, output_signal)\n",
    "    pred = esn.run(input_signal)\n",
    "    r2 = r2_score(output_signal, pred)\n",
    "    del esn, pred  # 不要な変数を削除してメモリ解放\n",
    "    gc.collect()   # ガベージコレクションを実行\n",
    "    return max(r2, 0)  # R^2スコアが負の場合は0にする\n",
    "\n",
    "# メモリ容量を計算\n",
    "def compute_memory_capacity(spectral_radius, units, X, Y):\n",
    "    logging.info(f\"Calculating memory capacity for spectral radius={spectral_radius} and units={units}\")\n",
    "    \n",
    "    r2_scores = []\n",
    "    for start in range(0, max_delay, batch_size):\n",
    "        end = min(start + batch_size, max_delay)\n",
    "        r2_batch = Parallel(n_jobs=8, backend=\"loky\")(delayed(compute_r2)(\n",
    "            spectral_radius, units, X[d], Y[d]) for d in range(start, end))\n",
    "        r2_scores.extend(r2_batch)\n",
    "        # バッチ毎にメモリ解放\n",
    "        gc.collect()\n",
    "    \n",
    "    memory_capacity = np.sum(r2_scores)\n",
    "    \n",
    "    # 結果をDataFrameにまとめる\n",
    "    results_df = pd.DataFrame({\n",
    "        \"Spectral Radius\": [spectral_radius],\n",
    "        \"Units\": [units],\n",
    "        \"Memory Capacity\": [memory_capacity],\n",
    "        \"R2 Scores\": [r2_scores]\n",
    "    })\n",
    "\n",
    "\n",
    "    # CSVファイルに結果を保存\n",
    "    save_path = os.path.join(output_dir, \"units_MC.csv\")\n",
    "    header = not os.path.exists(save_path)  # ファイルが存在しない場合のみヘッダーを追加\n",
    "    results_df.to_csv(save_path, mode=\"a\", header=header, index=False)\n",
    "    \n",
    "    # Pickleでも結果を保存\n",
    "    pickle_save_path = os.path.join(output_dir, f\"memory_capacity_sr_{spectral_radius}_units_{units}.pkl\")\n",
    "    with open(pickle_save_path, \"wb\") as f:\n",
    "        pickle.dump(results_df, f)\n",
    "    \n",
    "    logging.info(f\"Memory capacity for spectral radius={spectral_radius}, units={units}: {memory_capacity}\")\n",
    "    return memory_capacity\n",
    "\n",
    "# スペクトル半径ごとにメモリ容量を計算\n",
    "def compute_memory_capacity_for_spectral_radius(spectral_radius, units):\n",
    "    return compute_memory_capacity(spectral_radius, units, X, Y)"
   ]
  },
  {
   "cell_type": "code",
   "execution_count": null,
   "metadata": {},
   "outputs": [
    {
     "name": "stderr",
     "output_type": "stream",
     "text": [
      "2024-11-05 17:11:47,783 - INFO - Calculating memory capacity for spectral radius=0.5 and units=100\n"
     ]
    }
   ],
   "source": [
    "# 実行例\n",
    "test_result = compute_memory_capacity_for_spectral_radius(spectral_radius=0.5, units=100)\n",
    "print(f\"Test memory capacity result: {test_result}\")"
   ]
  }
 ],
 "metadata": {
  "kernelspec": {
   "display_name": "Python 3",
   "language": "python",
   "name": "python3"
  }
 },
 "nbformat": 4,
 "nbformat_minor": 2
}
