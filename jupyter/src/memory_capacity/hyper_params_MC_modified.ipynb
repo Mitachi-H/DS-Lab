{
 "cells": [
  {
   "cell_type": "code",
   "execution_count": null,
   "metadata": {},
   "outputs": [],
   "source": [
    "import os\n",
    "import reservoirpy as rpy\n",
    "import numpy as np\n",
    "import pandas as pd\n",
    "from joblib import Parallel, delayed\n",
    "from sklearn.metrics import r2_score\n",
    "from reservoirpy.nodes import Reservoir, Ridge\n",
    "import logging\n",
    "import gc\n",
    "import pickle\n",
    "\n",
    "# ログ設定\n",
    "logging.basicConfig(level=logging.INFO, format=\"%(asctime)s - %(levelname)s - %(message)s\")\n",
    "\n",
    "# グローバル設定\n",
    "rpy.verbosity(0)  # Verboseモードを無効\n",
    "rpy.set_seed(42)  # 再現性のためのシード設定"
   ]
  },
  {
   "cell_type": "code",
   "execution_count": null,
   "metadata": {},
   "outputs": [],
   "source": [
    "# パラメータ設定\n",
    "warm_up = 1000  # 初期値の捨てる数\n",
    "max_delay = 2000  # 遅延数\n",
    "fit_window = 1000  # W_outのfitするwindow\n",
    "n_timesteps = warm_up + max_delay + fit_window  # 全体のtimesteps\n",
    "\n",
    "rc_connectivity_list = np.array([0.2, 0.4, 0.6, 0.8, 1.0])\n",
    "units_list = np.array([100, 500, 1000, 2000])\n",
    "spectral_radii = np.array([0.1, 0.25, 0.5, 0.75, 1.0, 1.25])\n",
    "batch_size = 20  # バッチサイズを減らしてメモリ負荷軽減\n",
    "\n",
    "# 結果保存先のディレクトリ\n",
    "output_dir = \"jupyter/src/memory_capacity/results/hyper_params_MC\"\n",
    "os.makedirs(output_dir, exist_ok=True)  # ディレクトリがなければ作成"
   ]
  },
  {
   "cell_type": "code",
   "execution_count": null,
   "metadata": {},
   "outputs": [],
   "source": [
    "# データ生成\n",
    "np.random.seed(42)\n",
    "input_signal = np.random.randn(n_timesteps).reshape(-1, 1)  # ランダムな入力信号を生成\n",
    "input_signal = (input_signal - np.mean(input_signal)) / np.std(input_signal)  # 標準化"
   ]
  },
  {
   "cell_type": "code",
   "execution_count": null,
   "metadata": {},
   "outputs": [],
   "source": [
    "# ESN（Echo State Network）を作成\n",
    "def create_standard_esn(spectral_radius: float, units: int, rc_connectivity: float) -> rpy.Network:\n",
    "    logging.info(f\"Creating ESN with spectral radius={spectral_radius}, units={units} and rc_connectivity={rc_connectivity}\")\n",
    "    try:\n",
    "        reservoir = Reservoir(units=units, input_scaling=1, rc_connectivity=rc_connectivity, lr=1, sr=spectral_radius)\n",
    "        readout = Ridge(output_dim=1, ridge=1e-5)\n",
    "        return reservoir >> readout\n",
    "    except Exception as e:\n",
    "        logging.error(f\"Failed to create ESN: {e}\")\n",
    "        return None"
   ]
  },
  {
   "cell_type": "code",
   "execution_count": null,
   "metadata": {},
   "outputs": [],
   "source": [
    "def fit_with_delay(esn: rpy.Network, input_signal: np.ndarray, output_signal, warm_up, max_delay, fit_window):\n",
    "    try:\n",
    "        for start in range(0, max_delay, batch_size):\n",
    "            end = min(start + batch_size, max_delay)\n",
    "            r2_batch = Parallel(n_jobs=8, backend=\"loky\")(delayed(compute_r2)(\n",
    "                spectral_radius, units, rc_connectivity, X[d], Y[d]) for d in range(start, end))\n",
    "            r2_scores.extend(r2_batch)\n",
    "            gc.collect()  # 各バッチ後にメモリ解放\n",
    "        memory_capacity = np.nansum(r2_scores)\n",
    "        return {\n",
    "            \"Spectral Radius\": spectral_radius,\n",
    "            \"Units\": units,\n",
    "            \"RC Connectivity\": rc_connectivity,\n",
    "            \"Memory Capacity\": memory_capacity,\n",
    "            \"R2 Scores\": r2_scores\n",
    "        }\n",
    "    except Exception as e:\n",
    "        logging.error(f\"Failed to compute memory capacity for sr={spectral_radius}, units={units}, rc_connectivity={rc_connectivity}: {e}\")\n",
    "        return None\n",
    "\n",
    "# R^2スコアを計算\n",
    "def compute_r2(spectral_radius: float, units: int, rc_connectivity: float, input_signal: np.ndarray) -> float:\n",
    "    try:\n",
    "        esn = create_standard_esn(spectral_radius, units, rc_connectivity)\n",
    "        if esn is None:\n",
    "            return np.nan\n",
    "        \n",
    "        pred = esn.run(input_signal)\n",
    "        r2 = r2_score(output_signal, pred)\n",
    "        del esn, pred\n",
    "        gc.collect()\n",
    "        return max(r2, 0)\n",
    "    except Exception as e:\n",
    "        logging.error(f\"Failed to compute R2 score for sr={spectral_radius}, units={units}, rc_connectivity={rc_connectivity}: {e}\")\n",
    "        return np.nan"
   ]
  },
  {
   "cell_type": "code",
   "execution_count": null,
   "metadata": {},
   "outputs": [],
   "source": [
    "# メモリ容量を計算\n",
    "def compute_memory_capacity(spectral_radius, units, rc_connectivity, X, Y):\n",
    "    logging.info(f\"Calculating memory capacity for spectral radius={spectral_radius}, units={units} and rc_connectivity={rc_connectivity}\")\n",
    "    r2_scores = []\n",
    "    try:\n",
    "        for start in range(0, max_delay, batch_size):\n",
    "            end = min(start + batch_size, max_delay)\n",
    "            r2_batch = Parallel(n_jobs=8, backend=\"loky\")(delayed(compute_r2)(\n",
    "                spectral_radius, units, rc_connectivity, X[d], Y[d]) for d in range(start, end))\n",
    "            r2_scores.extend(r2_batch)\n",
    "            gc.collect()  # 各バッチ後にメモリ解放\n",
    "        memory_capacity = np.nansum(r2_scores)\n",
    "        return {\n",
    "            \"Spectral Radius\": spectral_radius,\n",
    "            \"Units\": units,\n",
    "            \"RC Connectivity\": rc_connectivity,\n",
    "            \"Memory Capacity\": memory_capacity,\n",
    "            \"R2 Scores\": r2_scores\n",
    "        }\n",
    "    except Exception as e:\n",
    "        logging.error(f\"Failed to compute memory capacity for sr={spectral_radius}, units={units}, rc_connectivity={rc_connectivity}: {e}\")\n",
    "        return None\n",
    "\n",
    "# 部分保存関数\n",
    "def save_partial_results(result):\n",
    "    try:\n",
    "        spectral_radius = result[\"Spectral Radius\"]\n",
    "        units = result[\"Units\"]\n",
    "        rc_connectivity = result[\"RC Connectivity\"]\n",
    "        file_name = f\"sr_{spectral_radius}_units_{units}_rc_{rc_connectivity}.pkl\"\n",
    "        path_name = os.path.join(output_dir, file_name)\n",
    "        with open(path_name, \"wb\") as f:\n",
    "            pickle.dump(result, f)\n",
    "        logging.info(\"Partial result saved successfully.\")\n",
    "    except Exception as e:\n",
    "        logging.error(f\"Failed to save partial result: {e}\")\n",
    "\n",
    "# 全てのパラメータの組み合わせについてメモリ容量を計算\n",
    "def compute_all_memory_capacities(spectral_radii, units_list, rc_connectivity_list, X, Y):\n",
    "    for sr in spectral_radii:\n",
    "        for units in units_list:\n",
    "            for rc_connectivity in rc_connectivity_list:\n",
    "                result = compute_memory_capacity(sr, units, rc_connectivity, X, Y)\n",
    "                if result is not None:\n",
    "                    save_partial_results(result)\n"
   ]
  },
  {
   "cell_type": "code",
   "execution_count": null,
   "metadata": {},
   "outputs": [
    {
     "name": "stderr",
     "output_type": "stream",
     "text": [
      "2024-11-13 11:41:56,713 - INFO - Calculating memory capacity for spectral radius=0.1, units=100 and rc_connectivity=0.2\n",
      "2024-11-13 11:47:26,653 - INFO - Partial result saved successfully.\n",
      "2024-11-13 11:47:26,655 - INFO - Calculating memory capacity for spectral radius=0.1, units=100 and rc_connectivity=0.4\n",
      "2024-11-13 11:49:00,529 - ERROR - Failed to compute memory capacity for sr=0.1, units=100, rc_connectivity=0.4: A worker process managed by the executor was unexpectedly terminated. This could be caused by a segmentation fault while calling the function or by an excessive memory usage causing the Operating System to kill the worker.\n",
      "\n",
      "The exit codes of the workers are {SIGBUS(-7)}\n",
      "2024-11-13 11:49:00,531 - INFO - Calculating memory capacity for spectral radius=0.1, units=100 and rc_connectivity=0.6\n",
      "2024-11-13 11:54:50,846 - INFO - Partial result saved successfully.\n",
      "2024-11-13 11:54:50,848 - INFO - Calculating memory capacity for spectral radius=0.1, units=100 and rc_connectivity=0.8\n",
      "2024-11-13 12:00:41,350 - INFO - Partial result saved successfully.\n",
      "2024-11-13 12:00:41,352 - INFO - Calculating memory capacity for spectral radius=0.1, units=100 and rc_connectivity=1.0\n",
      "2024-11-13 12:06:35,577 - INFO - Partial result saved successfully.\n",
      "2024-11-13 12:06:35,578 - INFO - Calculating memory capacity for spectral radius=0.1, units=500 and rc_connectivity=0.2\n"
     ]
    }
   ],
   "source": [
    "# 実行\n",
    "all_results = compute_all_memory_capacities(spectral_radii, units_list, rc_connectivity_list, X, Y)\n",
    "print(\"All memory capacity results have been calculated and saved.\")"
   ]
  }
 ],
 "metadata": {
  "kernelspec": {
   "display_name": "Python 3",
   "language": "python",
   "name": "python3"
  }
 },
 "nbformat": 4,
 "nbformat_minor": 2
}
