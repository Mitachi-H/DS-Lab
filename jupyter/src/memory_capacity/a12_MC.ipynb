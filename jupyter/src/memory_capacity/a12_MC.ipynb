{
 "cells": [
  {
   "cell_type": "code",
   "execution_count": 45,
   "metadata": {},
   "outputs": [],
   "source": [
    "import reservoirpy as rpy\n",
    "import numpy as np\n",
    "\n",
    "# 1. Set some global parameters\n",
    "rpy.verbosity(0)  # no need to be too verbose here\n",
    "rpy.set_seed(42)  # make everything reproducible!"
   ]
  },
  {
   "cell_type": "code",
   "execution_count": 46,
   "metadata": {},
   "outputs": [],
   "source": [
    "# パラメータ設定\n",
    "n_timesteps = 5000\n",
    "units = 2000\n",
    "spectral_radii = np.linspace(0.1, 1.5, 10)\n",
    "num_esn_instances = lime = 10\n",
    "inter_sparsity = 0.25"
   ]
  },
  {
   "cell_type": "code",
   "execution_count": 47,
   "metadata": {},
   "outputs": [],
   "source": [
    "# 2. Create the reservoir and readout\n",
    "from reservoirpy.nodes import Reservoir, Ridge\n",
    "\n",
    "def create_model(spectral_radius):\n",
    "    reservoir = Reservoir(units=units, sr=spectral_radius)\n",
    "    readout = Ridge(ridge=1e-7)\n",
    "    return reservoir >> readout"
   ]
  },
  {
   "cell_type": "code",
   "execution_count": 48,
   "metadata": {},
   "outputs": [],
   "source": [
    "def create_Standard_esn(sr, units):\n",
    "    reservoir = Reservoir(units=units, input_scaling=1,lr=0.6, sr=sr)\n",
    "    readout = Ridge(output_dim=1, ridge=1e-5)\n",
    "    return reservoir >> readout\n",
    "\n",
    "def create_4modular_esn(sr, n_modules=4):\n",
    "    modules = [Reservoir(units=units//n_modules, input_scaling=1,sr=sr) for _ in range(n_modules)]\n",
    "    readout = Ridge(output_dim=1, ridge=1e-5)\n",
    "    return [modules[0],modules[1],modules[2],modules[3]] >> readout\n",
    "\n",
    "def create_4modular_esn_diff(sr, n_modules=4):\n",
    "    modules0 = Reservoir(units=units//n_modules, rc_connectivity=0.2, sr=sr)\n",
    "    modules1 = Reservoir(units=units//n_modules, input_scaling=0.6, rc_connectivity=0.4, sr=sr)\n",
    "    modules2 = Reservoir(units=units//n_modules, input_scaling=0.9, W=uniform, rc_connectivity=0.6, sr=sr)\n",
    "    modules3 = Reservoir(units=units//n_modules, input_scaling=0.3, W=bernoulli, rc_connectivity=0.8, sr=sr)\n",
    "    readout = Ridge(output_dim=1, ridge=1e-5)\n",
    "    return [modules0,modules1,modules2,modules3] >> readout\n",
    "\n",
    "def create_4modular_esn_diff_inter(sr, n_modules=4):\n",
    "    modules0 = Reservoir(units=units//n_modules, rc_connectivity=0.2, sr=sr)\n",
    "    modules1 = Reservoir(units=units//n_modules, input_scaling=0.6, rc_connectivity=0.4, inter_connectivity=inter_sparsity, sr=sr)\n",
    "    modules2 = Reservoir(units=units//n_modules, input_scaling=0.9, W=uniform, rc_connectivity=0.6, inter_connectivity=inter_sparsity,sr=sr)\n",
    "    modules3 = Reservoir(units=units//n_modules, input_scaling=0.3, W=bernoulli, rc_connectivity=0.8, inter_connectivity=inter_sparsity, sr=sr)\n",
    "    readout = Ridge(output_dim=1, ridge=1e-5)\n",
    "    return [modules0,modules1,modules2,modules3] >> readout"
   ]
  },
  {
   "cell_type": "code",
   "execution_count": 49,
   "metadata": {},
   "outputs": [
    {
     "ename": "NameError",
     "evalue": "name 'tqdm' is not defined",
     "output_type": "error",
     "traceback": [
      "\u001b[0;31m---------------------------------------------------------------------------\u001b[0m",
      "\u001b[0;31mNameError\u001b[0m                                 Traceback (most recent call last)",
      "\u001b[0;32m<ipython-input-49-6f2c8702cab4>\u001b[0m in \u001b[0;36m<module>\u001b[0;34m\u001b[0m\n\u001b[1;32m      2\u001b[0m \u001b[0mstd_values\u001b[0m \u001b[0;34m=\u001b[0m \u001b[0;34m{\u001b[0m\u001b[0;34m\"Standard\"\u001b[0m\u001b[0;34m:\u001b[0m \u001b[0;34m[\u001b[0m\u001b[0;34m]\u001b[0m\u001b[0;34m,\u001b[0m \u001b[0;34m\"4_Modules\"\u001b[0m\u001b[0;34m:\u001b[0m \u001b[0;34m[\u001b[0m\u001b[0;34m]\u001b[0m\u001b[0;34m,\u001b[0m  \u001b[0;34m\"4_Hetero_Modules\"\u001b[0m\u001b[0;34m:\u001b[0m \u001b[0;34m[\u001b[0m\u001b[0;34m]\u001b[0m\u001b[0;34m,\u001b[0m  \u001b[0;34m\"4_Hetero_Modules_inter\"\u001b[0m\u001b[0;34m:\u001b[0m \u001b[0;34m[\u001b[0m\u001b[0;34m]\u001b[0m\u001b[0;34m}\u001b[0m\u001b[0;34m\u001b[0m\u001b[0;34m\u001b[0m\u001b[0m\n\u001b[1;32m      3\u001b[0m \u001b[0mresults\u001b[0m \u001b[0;34m=\u001b[0m \u001b[0;34m{\u001b[0m\u001b[0;34m\"Standard\"\u001b[0m\u001b[0;34m:\u001b[0m \u001b[0;34m[\u001b[0m\u001b[0;34m]\u001b[0m\u001b[0;34m,\u001b[0m \u001b[0;34m\"4_Modules\"\u001b[0m\u001b[0;34m:\u001b[0m \u001b[0;34m[\u001b[0m\u001b[0;34m]\u001b[0m\u001b[0;34m,\u001b[0m  \u001b[0;34m\"4_Hetero_Modules\"\u001b[0m\u001b[0;34m:\u001b[0m \u001b[0;34m[\u001b[0m\u001b[0;34m]\u001b[0m\u001b[0;34m,\u001b[0m  \u001b[0;34m\"4_Hetero_Modules_inter\"\u001b[0m\u001b[0;34m:\u001b[0m \u001b[0;34m[\u001b[0m\u001b[0;34m]\u001b[0m\u001b[0;34m}\u001b[0m\u001b[0;34m\u001b[0m\u001b[0;34m\u001b[0m\u001b[0m\n\u001b[0;32m----> 4\u001b[0;31m \u001b[0;32mfor\u001b[0m \u001b[0m_\u001b[0m \u001b[0;32min\u001b[0m \u001b[0mtqdm\u001b[0m\u001b[0;34m(\u001b[0m\u001b[0mrange\u001b[0m\u001b[0;34m(\u001b[0m\u001b[0mnum_esn_instances\u001b[0m\u001b[0;34m)\u001b[0m\u001b[0;34m,\u001b[0m \u001b[0mdesc\u001b[0m\u001b[0;34m=\u001b[0m\u001b[0;34m\"Testing ESN instances\"\u001b[0m\u001b[0;34m)\u001b[0m\u001b[0;34m:\u001b[0m\u001b[0;34m\u001b[0m\u001b[0;34m\u001b[0m\u001b[0m\n\u001b[0m\u001b[1;32m      5\u001b[0m     \u001b[0minstance_rmse\u001b[0m \u001b[0;34m=\u001b[0m \u001b[0;34m{\u001b[0m\u001b[0;34m\"Standard\"\u001b[0m\u001b[0;34m:\u001b[0m \u001b[0;34m[\u001b[0m\u001b[0;34m]\u001b[0m\u001b[0;34m,\u001b[0m \u001b[0;34m\"4_Modules\"\u001b[0m\u001b[0;34m:\u001b[0m \u001b[0;34m[\u001b[0m\u001b[0;34m]\u001b[0m\u001b[0;34m,\u001b[0m  \u001b[0;34m\"4_Hetero_Modules\"\u001b[0m\u001b[0;34m:\u001b[0m \u001b[0;34m[\u001b[0m\u001b[0;34m]\u001b[0m\u001b[0;34m,\u001b[0m  \u001b[0;34m\"4_Hetero_Modules_inter\"\u001b[0m\u001b[0;34m:\u001b[0m \u001b[0;34m[\u001b[0m\u001b[0;34m]\u001b[0m\u001b[0;34m}\u001b[0m\u001b[0;34m\u001b[0m\u001b[0;34m\u001b[0m\u001b[0m\n\u001b[1;32m      6\u001b[0m     \u001b[0;32mfor\u001b[0m \u001b[0msr\u001b[0m \u001b[0;32min\u001b[0m \u001b[0mspectral_radii\u001b[0m\u001b[0;34m:\u001b[0m\u001b[0;34m\u001b[0m\u001b[0;34m\u001b[0m\u001b[0m\n",
      "\u001b[0;31mNameError\u001b[0m: name 'tqdm' is not defined"
     ]
    }
   ],
   "source": [
    "rmse_values = {\"Standard\": [], \"4_Modules\": [],  \"4_Hetero_Modules\": [],  \"4_Hetero_Modules_inter\": []}\n",
    "std_values = {\"Standard\": [], \"4_Modules\": [],  \"4_Hetero_Modules\": [],  \"4_Hetero_Modules_inter\": []}\n",
    "results = {\"Standard\": [], \"4_Modules\": [],  \"4_Hetero_Modules\": [],  \"4_Hetero_Modules_inter\": []}\n",
    "for _ in tqdm(range(num_esn_instances), desc=\"Testing ESN instances\"):\n",
    "    instance_rmse = {\"Standard\": [], \"4_Modules\": [],  \"4_Hetero_Modules\": [],  \"4_Hetero_Modules_inter\": []}\n",
    "    for sr in spectral_radii:\n",
    "        \n",
    "        esn_4modular_diff = create_4modular_esn_diff(sr)\n",
    "        esn_4modular_diff.fit(X1[:2000], X1[1:2001], warmup=100)\n",
    "        predictions_4modular_diff = esn_4modular_diff.run(X2[2001:-1])\n",
    "        rmse_4modular_diff = np.sqrt(mean_squared_error(X2[2002:], predictions_4modular_diff))\n",
    "       \n",
    "        esn_4modular_diff_inter = create_4modular_esn_diff(sr)\n",
    "        esn_4modular_diff_inter.fit(X1[:2000], X1[1:2001], warmup=100)\n",
    "        predictions_4modular_diff_inter = esn_4modular_diff_inter.run(X2[2001:-1])\n",
    "        rmse_4modular_diff_inter = np.sqrt(mean_squared_error(X2[2002:], predictions_4modular_diff_inter))       \n",
    "     \n",
    "        esn_4modular = create_4modular_esn(sr)\n",
    "        esn_4modular.fit(X1[:2000], X1[1:2001], warmup=100)\n",
    "        predictions_4modular = esn_4modular.run(X2[2001:-1])\n",
    "        rmse_4modular = np.sqrt(mean_squared_error(X2[2002:], predictions_4modular))\n",
    "        \n",
    "        Standard_esn = create_Standard_esn(sr,100)\n",
    "        Standard_esn.fit(X1[:2000], X1[1:2001], warmup=100)\n",
    "        Standard_predictions = Standard_esn.run(X2[2001:-1])\n",
    "        Standard_rmse = np.sqrt(mean_squared_error(X2[2002:], Standard_predictions))\n",
    "        \n",
    "        instance_rmse[\"4_Hetero_Modules\"].append(min(rmse_4modular_diff*lime, 1))\n",
    "        instance_rmse[\"4_Hetero_Modules_inter\"].append(min(rmse_4modular_diff_inter*lime, 1))\n",
    "        instance_rmse[\"Standard\"].append(min(Standard_rmse*lime, 1))\n",
    "        instance_rmse[\"4_Modules\"].append(min(rmse_4modular*lime, 1))\n",
    "mean_rmse_values = {key: np.mean(val, axis=1) for key, val in results.items()}\n",
    "std_rmse_values = {key: np.std(val, axis=1) for key, val in results.items()}"
   ]
  },
  {
   "cell_type": "code",
   "execution_count": null,
   "metadata": {},
   "outputs": [],
   "source": [
    "plt.figure(figsize=(15, 8))\n",
    "for key in mean_rmse_values:\n",
    "    plt.errorbar(spectral_radii, mean_rmse_values[key], yerr=std_rmse_values[key], label=f\"{key.replace('_', ' ').title()} \", fmt='o-', capsize=5)\n",
    "\n",
    "plt.title('Mean RMSE vs Spectral Radius in Echo State Networks with Error Bars')\n",
    "plt.xlabel('Spectral Radius')\n",
    "plt.ylabel('Mean RMSE')\n",
    "plt.legend()\n",
    "plt.grid(True)\n",
    "plt.show()\n",
    "\n",
    "data_file_path = os.path.join(data_folder_path, \"final_result.pkl\")\n",
    "with open(data_file_path, 'wb') as f:\n",
    "    pickle.dump((mean_rmse_values, std_rmse_values), f)\n",
    "print(\"Results saved to 'final_result.pkl'\")"
   ]
  }
 ],
 "metadata": {
  "kernelspec": {
   "display_name": "Python 3",
   "language": "python",
   "name": "python3"
  },
  "language_info": {
   "codemirror_mode": {
    "name": "ipython",
    "version": 3
   },
   "file_extension": ".py",
   "mimetype": "text/x-python",
   "name": "python",
   "nbconvert_exporter": "python",
   "pygments_lexer": "ipython3",
   "version": "3.6.8"
  }
 },
 "nbformat": 4,
 "nbformat_minor": 2
}
