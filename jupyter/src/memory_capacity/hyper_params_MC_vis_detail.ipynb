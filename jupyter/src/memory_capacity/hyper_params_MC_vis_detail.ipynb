{
 "cells": [
  {
   "cell_type": "code",
   "execution_count": null,
   "metadata": {},
   "outputs": [
    {
     "ename": "",
     "evalue": "",
     "output_type": "error",
     "traceback": [
      "\u001b[1;31mカーネルを起動できませんでした。 \n",
      "\u001b[1;31mspawn /home/mitachi/DS-Lab/myenv/bin/python EAGAIN. \n",
      "\u001b[1;31m詳細については、Jupyter [ログ] (command:jupyter.viewOutput) を参照してください。"
     ]
    }
   ],
   "source": [
    "import os\n",
    "import pickle\n",
    "import matplotlib.pyplot as plt\n",
    "from mpl_toolkits.mplot3d import Axes3D\n",
    "import numpy as np\n",
    "import pandas as pd\n",
    "import seaborn as sns\n",
    "\n",
    "# 結果ファイルのパス\n",
    "output_dir = os.path.join(os.getcwd(), \"results/hyper_params_MC_modified\")\n",
    "if not os.path.exists(output_dir):\n",
    "    raise FileNotFoundError(f\"The specified directory does not exist: {output_dir}\")\n",
    "\n",
    "def load_results(output_dir):\n",
    "    results = []\n",
    "    for file_name in os.listdir(output_dir):\n",
    "        file_path = os.path.join(output_dir, file_name)\n",
    "        if file_name.endswith(\".pkl\") and os.path.getsize(file_path) > 0:\n",
    "            with open(file_path, \"rb\") as f:\n",
    "                try:\n",
    "                    result = pickle.load(f)\n",
    "                    if isinstance(result, dict):\n",
    "                        results.append(result)\n",
    "                except (EOFError, pickle.UnpicklingError):\n",
    "                    print(f\"Warning: Could not load {file_name}, it may be corrupted.\")\n",
    "    return results\n",
    "\n",
    "# データの読み込み\n",
    "results = load_results(output_dir)\n",
    "\n",
    "# データフレームに変換して、視覚化に備える\n",
    "data = pd.DataFrame([r for r in results if all(key in r for key in [\"Spectral Radius\", \"Units\", \"RC Connectivity\", \"Memory Capacity\", \"R2 Scores\"])])\n",
    "\n",
    "# R2 Scoresを展開して、新しいデータフレームを作成\n",
    "expanded_data = []\n",
    "for _, row in data.iterrows():\n",
    "    for r2 in row[\"R2 Scores\"]:\n",
    "        expanded_data.append({\n",
    "            \"Spectral Radius\": row[\"Spectral Radius\"],\n",
    "            \"Units\": row[\"Units\"],\n",
    "            \"RC Connectivity\": row[\"RC Connectivity\"],\n",
    "            \"R2 Score\": r2\n",
    "        })\n",
    "expanded_df = pd.DataFrame(expanded_data)"
   ]
  },
  {
   "cell_type": "code",
   "execution_count": null,
   "metadata": {},
   "outputs": [],
   "source": [
    "import matplotlib.pyplot as plt\n",
    "import numpy as np\n",
    "\n",
    "# 複数のUnitsの値を指定\n",
    "unit_values = [100, 500, 1000]\n",
    "selected_params = {\"Spectral Radius\": 0.1, \"RC Connectivity\": 1}\n",
    "\n",
    "# プロット設定\n",
    "plt.figure(figsize=(12, 6))\n",
    "colors = ['skyblue', 'salmon', 'lightgreen']\n",
    "\n",
    "for idx, units in enumerate(unit_values):\n",
    "    # dataから指定したUnitsとその他のハイパーパラメータの組み合わせを抽出\n",
    "    filtered_row = data[\n",
    "        (data[\"Units\"] == units) &\n",
    "        (data[\"Spectral Radius\"] == selected_params[\"Spectral Radius\"]) &\n",
    "        (data[\"RC Connectivity\"] == selected_params[\"RC Connectivity\"])\n",
    "    ]\n",
    "\n",
    "    # R2 Scoresが見つかった場合のみプロット\n",
    "    if not filtered_row.empty:\n",
    "        r2_scores = filtered_row.iloc[0][\"R2 Scores\"]  # R2 Scoresのリストを取得\n",
    "\n",
    "        # 100ごとの区切りで平均と標準偏差を計算\n",
    "        bin_size = 50\n",
    "        means = []\n",
    "        std_devs = []\n",
    "        indices = []\n",
    "\n",
    "        for i in range(0, len(r2_scores), bin_size):\n",
    "            bin_scores = r2_scores[i:i + bin_size]\n",
    "            if len(bin_scores) > 0:\n",
    "                means.append(np.mean(bin_scores))\n",
    "                std_devs.append(np.std(bin_scores))\n",
    "                indices.append(i + bin_size / 2)  # 区間の中心をインデックスとする\n",
    "\n",
    "        # エラーバー付きの線グラフをプロット\n",
    "        plt.errorbar(indices, means, yerr=std_devs, fmt='-o', capsize=5, color=colors[idx], label=f\"Units={units}\")\n",
    "\n",
    "# プロット設定\n",
    "plt.title(f\"R2 Scores over Delay (Spectral Radius={selected_params['Spectral Radius']}, RC Connectivity={selected_params['RC Connectivity']})\")\n",
    "plt.xlabel(\"Index (Delay, binned by 100)\")\n",
    "plt.ylabel(\"R2 Score\")\n",
    "plt.legend()\n",
    "plt.show()"
   ]
  },
  {
   "cell_type": "code",
   "execution_count": null,
   "metadata": {},
   "outputs": [],
   "source": [
    "# 2. ボックスプロットでR2 Scoresの分布を表示\n",
    "plt.figure(figsize=(14, 6))\n",
    "sns.boxplot(x=\"Units\", y=\"R2 Score\", hue=\"Spectral Radius\", data=expanded_df)\n",
    "plt.title(\"R2 Score Distribution per Units for Different Spectral Radius\")\n",
    "plt.xlabel(\"Units\")\n",
    "plt.ylabel(\"R2 Score\")\n",
    "plt.legend(title=\"Spectral Radius\", bbox_to_anchor=(1.05, 1), loc='upper left')\n",
    "plt.tight_layout()\n",
    "plt.show()"
   ]
  },
  {
   "cell_type": "code",
   "execution_count": null,
   "metadata": {},
   "outputs": [],
   "source": [
    "# 3. ヒートマップでR2 Scoresの平均を表示\n",
    "pivot_table = expanded_df.pivot_table(values=\"R2 Score\", index=\"Spectral Radius\", columns=\"Units\", aggfunc=\"mean\")\n",
    "plt.figure(figsize=(12, 8))\n",
    "sns.heatmap(pivot_table, annot=True, cmap=\"YlGnBu\", cbar_kws={\"label\": \"Mean R2 Score\"})\n",
    "plt.title(\"Mean R2 Score by Units and Spectral Radius\")\n",
    "plt.xlabel(\"Units\")\n",
    "plt.ylabel(\"Spectral Radius\")\n",
    "plt.show()"
   ]
  }
 ],
 "metadata": {
  "kernelspec": {
   "display_name": "myenv",
   "language": "python",
   "name": "python3"
  },
  "language_info": {
   "codemirror_mode": {
    "name": "ipython",
    "version": 3
   },
   "file_extension": ".py",
   "mimetype": "text/x-python",
   "name": "python",
   "nbconvert_exporter": "python",
   "pygments_lexer": "ipython3",
   "version": "3.6.8"
  }
 },
 "nbformat": 4,
 "nbformat_minor": 2
}
