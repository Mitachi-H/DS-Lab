{
 "cells": [
  {
   "cell_type": "code",
   "execution_count": null,
   "metadata": {},
   "outputs": [],
   "source": [
    "import os\n",
    "import reservoirpy as rpy\n",
    "import numpy as np\n",
    "import pandas as pd\n",
    "from joblib import Parallel, delayed\n",
    "from sklearn.metrics import r2_score\n",
    "from reservoirpy.nodes import Reservoir, Ridge\n",
    "import logging\n",
    "import gc\n",
    "import pickle\n",
    "\n",
    "# ログ設定\n",
    "logging.basicConfig(level=logging.INFO, format=\"%(asctime)s - %(levelname)s - %(message)s\")\n",
    "\n",
    "# グローバル設定\n",
    "rpy.verbosity(0)  # Verboseモードを無効\n",
    "rpy.set_seed(42)  # 再現性のためのシード設定"
   ]
  },
  {
   "cell_type": "code",
   "execution_count": null,
   "metadata": {},
   "outputs": [],
   "source": [
    "# パラメータ設定\n",
    "n_timesteps = 3200\n",
    "units = 2000\n",
    "rc_connectivity_list = np.array([0.2, 0.4, 0.6, 0.8, 1.0])\n",
    "spectral_radii = np.array([0.1, 0.25, 0.5, 0.75, 1.0, 1.25])\n",
    "max_delay = 3200  # 遅延数\n",
    "batch_size = 20  # バッチサイズを最適化\n",
    "\n",
    "# 結果保存先のディレクトリ\n",
    "output_dir = \"jupyter/src/memory_capacity/results/modulerESN_MC\"\n",
    "os.makedirs(output_dir, exist_ok=True)  # ディレクトリがなければ作成"
   ]
  },
  {
   "cell_type": "code",
   "execution_count": null,
   "metadata": {},
   "outputs": [],
   "source": [
    "# データ生成\n",
    "np.random.seed(42)\n",
    "input_signal = np.random.randn(n_timesteps).reshape(-1, 1)  # ランダムな入力信号を生成\n",
    "input_signal = (input_signal - np.mean(input_signal)) / np.std(input_signal)  # 標準化\n",
    "X = [input_signal[:-d] for d in range(1, max_delay + 1)]\n",
    "Y = [input_signal[d:] for d in range(1, max_delay + 1)]"
   ]
  },
  {
   "cell_type": "code",
   "execution_count": null,
   "metadata": {},
   "outputs": [],
   "source": [
    "def create_4modular_esn(spectral_radius, rc_connectivity, n_modules=4):\n",
    "    modules = [Reservoir(units=units//n_modules, sr=spectral_radius, rc_connectivity=rc_connectivity) for _ in range(n_modules)]\n",
    "    readout = Ridge(output_dim=1, ridge=1e-5)\n",
    "    return [modules[0],modules[1],modules[2],modules[3]] >> readout\n",
    "\n",
    "def create_4modular_esn_inter(spectral_radius, rc_connectivity, n_modules=4):\n",
    "    inter_connectivity = (rc_connectivity + 1) / 2\n",
    "    modules = [Reservoir(units=units//n_modules, sr=spectral_radius, rc_connectivity=rc_connectivity, inter_connectivity=inter_connectivity) for _ in range(n_modules)]\n",
    "    readout = Ridge(output_dim=1, ridge=1e-5)\n",
    "    return [modules[0],modules[1],modules[2],modules[3]] >> readout"
   ]
  },
  {
   "cell_type": "code",
   "execution_count": null,
   "metadata": {},
   "outputs": [],
   "source": [
    "# R^2スコアを計算\n",
    "def compute_r2(spectral_radius, rc_connectivity, is_inter, input_signal, output_signal):\n",
    "    try:\n",
    "        if is_inter:\n",
    "            esn = create_4modular_esn_inter(spectral_radius, rc_connectivity)\n",
    "        else:\n",
    "            esn = create_4modular_esn(spectral_radius, rc_connectivity)\n",
    "        esn.fit(input_signal, output_signal)\n",
    "        pred = esn.run(input_signal)\n",
    "        r2 = r2_score(output_signal, pred)\n",
    "        del esn, pred\n",
    "        gc.collect()\n",
    "        return max(r2, 0)\n",
    "    except Exception as e:\n",
    "        logging.error(f\"Failed to compute R2 score for sr={spectral_radius}, rc_connectivity={rc_connectivity}, is_inter={is_inter}: {e}\")\n",
    "        return np.nan\n",
    "\n",
    "# メモリ容量を計算\n",
    "def compute_memory_capacity(spectral_radius, rc_connectivity, is_inter, X, Y):\n",
    "    logging.info(f\"Calculating memory capacity for spectral radius={spectral_radius}, rc_connectivity={rc_connectivity} and is_inter={is_inter}\")\n",
    "    r2_scores = []\n",
    "    try:\n",
    "        for start in range(0, max_delay, batch_size):\n",
    "            end = min(start + batch_size, max_delay)\n",
    "            r2_batch = Parallel(n_jobs=8, backend=\"loky\")(delayed(compute_r2)(\n",
    "                spectral_radius, rc_connectivity, is_inter, X[d], Y[d]) for d in range(start, end))\n",
    "            r2_scores.extend(r2_batch)\n",
    "            gc.collect()  # 各バッチ後にメモリ解放\n",
    "        memory_capacity = np.nansum(r2_scores)\n",
    "        return {\n",
    "            \"Is Inter\": is_inter,\n",
    "            \"Spectral Radius\": spectral_radius,\n",
    "            \"RC Connectivity\": rc_connectivity,\n",
    "            \"Memory Capacity\": memory_capacity,\n",
    "            \"R2 Scores\": r2_scores\n",
    "        }\n",
    "    except Exception as e:\n",
    "        logging.error(f\"Failed to compute memory capacity for spectral radius={spectral_radius}, rc_connectivity={rc_connectivity} and is_inter={is_inter}: {e}\")\n",
    "        return None\n",
    "\n",
    "# 部分保存関数\n",
    "def save_partial_results(result):\n",
    "    try:\n",
    "        spectral_radius = result[\"Spectral Radius\"]\n",
    "        rc_connectivity = result[\"RC Connectivity\"]\n",
    "        is_inter = str(result[\"Is Inter\"])\n",
    "        file_name = f\"sr_{spectral_radius}_rc_{rc_connectivity}_is_inter_{is_inter}.pkl\"\n",
    "        path_name = os.path.join(output_dir, file_name)\n",
    "        with open(path_name, \"wb\") as f:\n",
    "            pickle.dump(result, f)\n",
    "        logging.info(\"Partial result saved successfully.\")\n",
    "    except Exception as e:\n",
    "        logging.error(f\"Failed to save partial result: {e}\")\n",
    "\n",
    "# 全てのパラメータの組み合わせについてメモリ容量を計算\n",
    "def compute_all_memory_capacities(spectral_radii, rc_connectivity_list, X, Y):\n",
    "    for sr in spectral_radii:\n",
    "        for rc_connectivity in rc_connectivity_list:\n",
    "            for is_inter in [True, False]:\n",
    "                result = compute_memory_capacity(sr, rc_connectivity, is_inter, X, Y)\n",
    "                if result is not None:\n",
    "                    save_partial_results(result)\n"
   ]
  },
  {
   "cell_type": "code",
   "execution_count": null,
   "metadata": {},
   "outputs": [],
   "source": [
    "# 実行\n",
    "compute_all_memory_capacities(spectral_radii, rc_connectivity_list, X, Y)\n",
    "print(\"All memory capacity results have been calculated and saved.\")"
   ]
  }
 ],
 "metadata": {
  "language_info": {
   "name": "python"
  }
 },
 "nbformat": 4,
 "nbformat_minor": 2
}
