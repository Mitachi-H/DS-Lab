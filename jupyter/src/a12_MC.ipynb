{
 "cells": [
  {
   "cell_type": "code",
   "execution_count": 3,
   "metadata": {},
   "outputs": [],
   "source": [
    "import reservoirpy as rpy\n",
    "import numpy as np\n",
    "\n",
    "# 1. Set some global parameters\n",
    "rpy.verbosity(0)  # no need to be too verbose here\n",
    "rpy.set_seed(42)  # make everything reproducible!"
   ]
  },
  {
   "cell_type": "code",
   "execution_count": 4,
   "metadata": {},
   "outputs": [],
   "source": [
    "# パラメータ設定\n",
    "n_timesteps = 5000\n",
    "units = 2000\n",
    "spectral_radii = np.linspace(0.1, 1.5, 10)\n",
    "num_esn_instances = lime = 10\n",
    "inter_sparsity = 0.25"
   ]
  },
  {
   "cell_type": "code",
   "execution_count": null,
   "metadata": {},
   "outputs": [],
   "source": [
    "# 2. Create the reservoir and readout\n",
    "from reservoirpy.nodes import Reservoir, Ridge\n",
    "\n",
    "def create_model(spectral_radius):\n",
    "    reservoir = Reservoir(units=units, sr=spectral_radius)\n",
    "    readout = Ridge(ridge=1e-7)\n",
    "    return reservoir >> readout"
   ]
  },
  {
   "cell_type": "code",
   "execution_count": 5,
   "metadata": {},
   "outputs": [],
   "source": [
    "def create_Standard_esn(sr, units):\n",
    "    reservoir = Reservoir(units=units, input_scaling=1,lr=0.6, sr=sr)\n",
    "    readout = Ridge(output_dim=1, ridge=1e-5)\n",
    "    return reservoir >> readout\n",
    "\n",
    "def create_4modular_esn(sr, n_modules=4):\n",
    "    modules = [Reservoir(units=units//n_modules, input_scaling=1,sr=sr) for _ in range(n_modules)]\n",
    "    readout = Ridge(output_dim=1, ridge=1e-5)\n",
    "    return [modules[0],modules[1],modules[2],modules[3]] >> readout\n",
    "\n",
    "def create_4modular_esn_diff(sr, n_modules=4):\n",
    "    modules0 = Reservoir(units=units//n_modules, rc_connectivity=0.2, sr=sr)\n",
    "    modules1 = Reservoir(units=units//n_modules, input_scaling=0.6, rc_connectivity=0.4, sr=sr)\n",
    "    modules2 = Reservoir(units=units//n_modules, input_scaling=0.9, W=uniform, rc_connectivity=0.6, sr=sr)\n",
    "    modules3 = Reservoir(units=units//n_modules, input_scaling=0.3, W=bernoulli, rc_connectivity=0.8, sr=sr)\n",
    "    readout = Ridge(output_dim=1, ridge=1e-5)\n",
    "    return [modules0,modules1,modules2,modules3] >> readout\n",
    "\n",
    "def create_4modular_esn_diff_inter(sr, n_modules=4):\n",
    "    modules0 = Reservoir(units=units//n_modules, rc_connectivity=0.2, sr=sr)\n",
    "    modules1 = Reservoir(units=units//n_modules, input_scaling=0.6, rc_connectivity=0.4, inter_connectivity=inter_sparsity, sr=sr)\n",
    "    modules2 = Reservoir(units=units//n_modules, input_scaling=0.9, W=uniform, rc_connectivity=0.6, inter_connectivity=inter_sparsity,sr=sr)\n",
    "    modules3 = Reservoir(units=units//n_modules, input_scaling=0.3, W=bernoulli, rc_connectivity=0.8, inter_connectivity=inter_sparsity, sr=sr)\n",
    "    readout = Ridge(output_dim=1, ridge=1e-5)\n",
    "    return [modules0,modules1,modules2,modules3] >> readout"
   ]
  },
  {
   "cell_type": "code",
   "execution_count": 6,
   "metadata": {},
   "outputs": [
    {
     "name": "stderr",
     "output_type": "stream",
     "text": [
      "Testing ESN instances: 100%|██████████| 10/10 [06:32<00:00, 39.27s/it]\n"
     ]
    },
    {
     "ename": "AxisError",
     "evalue": "axis 1 is out of bounds for array of dimension 1",
     "output_type": "error",
     "traceback": [
      "\u001b[0;31m---------------------------------------------------------------------------\u001b[0m",
      "\u001b[0;31mAxisError\u001b[0m                                 Traceback (most recent call last)",
      "Cell \u001b[0;32mIn[6], line 32\u001b[0m\n\u001b[1;32m     30\u001b[0m         instance_rmse[\u001b[38;5;124m\"\u001b[39m\u001b[38;5;124mStandard\u001b[39m\u001b[38;5;124m\"\u001b[39m]\u001b[38;5;241m.\u001b[39mappend(\u001b[38;5;28mmin\u001b[39m(Standard_rmse\u001b[38;5;241m*\u001b[39mlime, \u001b[38;5;241m1\u001b[39m))\n\u001b[1;32m     31\u001b[0m         instance_rmse[\u001b[38;5;124m\"\u001b[39m\u001b[38;5;124m4_Modules\u001b[39m\u001b[38;5;124m\"\u001b[39m]\u001b[38;5;241m.\u001b[39mappend(\u001b[38;5;28mmin\u001b[39m(rmse_4modular\u001b[38;5;241m*\u001b[39mlime, \u001b[38;5;241m1\u001b[39m))\n\u001b[0;32m---> 32\u001b[0m mean_rmse_values \u001b[38;5;241m=\u001b[39m \u001b[43m{\u001b[49m\u001b[43mkey\u001b[49m\u001b[43m:\u001b[49m\u001b[43m \u001b[49m\u001b[43mnp\u001b[49m\u001b[38;5;241;43m.\u001b[39;49m\u001b[43mmean\u001b[49m\u001b[43m(\u001b[49m\u001b[43mval\u001b[49m\u001b[43m,\u001b[49m\u001b[43m \u001b[49m\u001b[43maxis\u001b[49m\u001b[38;5;241;43m=\u001b[39;49m\u001b[38;5;241;43m1\u001b[39;49m\u001b[43m)\u001b[49m\u001b[43m \u001b[49m\u001b[38;5;28;43;01mfor\u001b[39;49;00m\u001b[43m \u001b[49m\u001b[43mkey\u001b[49m\u001b[43m,\u001b[49m\u001b[43m \u001b[49m\u001b[43mval\u001b[49m\u001b[43m \u001b[49m\u001b[38;5;129;43;01min\u001b[39;49;00m\u001b[43m \u001b[49m\u001b[43mresults\u001b[49m\u001b[38;5;241;43m.\u001b[39;49m\u001b[43mitems\u001b[49m\u001b[43m(\u001b[49m\u001b[43m)\u001b[49m\u001b[43m}\u001b[49m\n\u001b[1;32m     33\u001b[0m std_rmse_values \u001b[38;5;241m=\u001b[39m {key: np\u001b[38;5;241m.\u001b[39mstd(val, axis\u001b[38;5;241m=\u001b[39m\u001b[38;5;241m1\u001b[39m) \u001b[38;5;28;01mfor\u001b[39;00m key, val \u001b[38;5;129;01min\u001b[39;00m results\u001b[38;5;241m.\u001b[39mitems()}\n",
      "Cell \u001b[0;32mIn[6], line 32\u001b[0m, in \u001b[0;36m<dictcomp>\u001b[0;34m(.0)\u001b[0m\n\u001b[1;32m     30\u001b[0m         instance_rmse[\u001b[38;5;124m\"\u001b[39m\u001b[38;5;124mStandard\u001b[39m\u001b[38;5;124m\"\u001b[39m]\u001b[38;5;241m.\u001b[39mappend(\u001b[38;5;28mmin\u001b[39m(Standard_rmse\u001b[38;5;241m*\u001b[39mlime, \u001b[38;5;241m1\u001b[39m))\n\u001b[1;32m     31\u001b[0m         instance_rmse[\u001b[38;5;124m\"\u001b[39m\u001b[38;5;124m4_Modules\u001b[39m\u001b[38;5;124m\"\u001b[39m]\u001b[38;5;241m.\u001b[39mappend(\u001b[38;5;28mmin\u001b[39m(rmse_4modular\u001b[38;5;241m*\u001b[39mlime, \u001b[38;5;241m1\u001b[39m))\n\u001b[0;32m---> 32\u001b[0m mean_rmse_values \u001b[38;5;241m=\u001b[39m {key: \u001b[43mnp\u001b[49m\u001b[38;5;241;43m.\u001b[39;49m\u001b[43mmean\u001b[49m\u001b[43m(\u001b[49m\u001b[43mval\u001b[49m\u001b[43m,\u001b[49m\u001b[43m \u001b[49m\u001b[43maxis\u001b[49m\u001b[38;5;241;43m=\u001b[39;49m\u001b[38;5;241;43m1\u001b[39;49m\u001b[43m)\u001b[49m \u001b[38;5;28;01mfor\u001b[39;00m key, val \u001b[38;5;129;01min\u001b[39;00m results\u001b[38;5;241m.\u001b[39mitems()}\n\u001b[1;32m     33\u001b[0m std_rmse_values \u001b[38;5;241m=\u001b[39m {key: np\u001b[38;5;241m.\u001b[39mstd(val, axis\u001b[38;5;241m=\u001b[39m\u001b[38;5;241m1\u001b[39m) \u001b[38;5;28;01mfor\u001b[39;00m key, val \u001b[38;5;129;01min\u001b[39;00m results\u001b[38;5;241m.\u001b[39mitems()}\n",
      "File \u001b[0;32m<__array_function__ internals>:200\u001b[0m, in \u001b[0;36mmean\u001b[0;34m(*args, **kwargs)\u001b[0m\n",
      "File \u001b[0;32m/opt/conda/lib/python3.11/site-packages/numpy/core/fromnumeric.py:3464\u001b[0m, in \u001b[0;36mmean\u001b[0;34m(a, axis, dtype, out, keepdims, where)\u001b[0m\n\u001b[1;32m   3461\u001b[0m     \u001b[38;5;28;01melse\u001b[39;00m:\n\u001b[1;32m   3462\u001b[0m         \u001b[38;5;28;01mreturn\u001b[39;00m mean(axis\u001b[38;5;241m=\u001b[39maxis, dtype\u001b[38;5;241m=\u001b[39mdtype, out\u001b[38;5;241m=\u001b[39mout, \u001b[38;5;241m*\u001b[39m\u001b[38;5;241m*\u001b[39mkwargs)\n\u001b[0;32m-> 3464\u001b[0m \u001b[38;5;28;01mreturn\u001b[39;00m \u001b[43m_methods\u001b[49m\u001b[38;5;241;43m.\u001b[39;49m\u001b[43m_mean\u001b[49m\u001b[43m(\u001b[49m\u001b[43ma\u001b[49m\u001b[43m,\u001b[49m\u001b[43m \u001b[49m\u001b[43maxis\u001b[49m\u001b[38;5;241;43m=\u001b[39;49m\u001b[43maxis\u001b[49m\u001b[43m,\u001b[49m\u001b[43m \u001b[49m\u001b[43mdtype\u001b[49m\u001b[38;5;241;43m=\u001b[39;49m\u001b[43mdtype\u001b[49m\u001b[43m,\u001b[49m\n\u001b[1;32m   3465\u001b[0m \u001b[43m                      \u001b[49m\u001b[43mout\u001b[49m\u001b[38;5;241;43m=\u001b[39;49m\u001b[43mout\u001b[49m\u001b[43m,\u001b[49m\u001b[43m \u001b[49m\u001b[38;5;241;43m*\u001b[39;49m\u001b[38;5;241;43m*\u001b[39;49m\u001b[43mkwargs\u001b[49m\u001b[43m)\u001b[49m\n",
      "File \u001b[0;32m/opt/conda/lib/python3.11/site-packages/numpy/core/_methods.py:169\u001b[0m, in \u001b[0;36m_mean\u001b[0;34m(a, axis, dtype, out, keepdims, where)\u001b[0m\n\u001b[1;32m    165\u001b[0m arr \u001b[38;5;241m=\u001b[39m asanyarray(a)\n\u001b[1;32m    167\u001b[0m is_float16_result \u001b[38;5;241m=\u001b[39m \u001b[38;5;28;01mFalse\u001b[39;00m\n\u001b[0;32m--> 169\u001b[0m rcount \u001b[38;5;241m=\u001b[39m \u001b[43m_count_reduce_items\u001b[49m\u001b[43m(\u001b[49m\u001b[43marr\u001b[49m\u001b[43m,\u001b[49m\u001b[43m \u001b[49m\u001b[43maxis\u001b[49m\u001b[43m,\u001b[49m\u001b[43m \u001b[49m\u001b[43mkeepdims\u001b[49m\u001b[38;5;241;43m=\u001b[39;49m\u001b[43mkeepdims\u001b[49m\u001b[43m,\u001b[49m\u001b[43m \u001b[49m\u001b[43mwhere\u001b[49m\u001b[38;5;241;43m=\u001b[39;49m\u001b[43mwhere\u001b[49m\u001b[43m)\u001b[49m\n\u001b[1;32m    170\u001b[0m \u001b[38;5;28;01mif\u001b[39;00m rcount \u001b[38;5;241m==\u001b[39m \u001b[38;5;241m0\u001b[39m \u001b[38;5;28;01mif\u001b[39;00m where \u001b[38;5;129;01mis\u001b[39;00m \u001b[38;5;28;01mTrue\u001b[39;00m \u001b[38;5;28;01melse\u001b[39;00m umr_any(rcount \u001b[38;5;241m==\u001b[39m \u001b[38;5;241m0\u001b[39m, axis\u001b[38;5;241m=\u001b[39m\u001b[38;5;28;01mNone\u001b[39;00m):\n\u001b[1;32m    171\u001b[0m     warnings\u001b[38;5;241m.\u001b[39mwarn(\u001b[38;5;124m\"\u001b[39m\u001b[38;5;124mMean of empty slice.\u001b[39m\u001b[38;5;124m\"\u001b[39m, \u001b[38;5;167;01mRuntimeWarning\u001b[39;00m, stacklevel\u001b[38;5;241m=\u001b[39m\u001b[38;5;241m2\u001b[39m)\n",
      "File \u001b[0;32m/opt/conda/lib/python3.11/site-packages/numpy/core/_methods.py:77\u001b[0m, in \u001b[0;36m_count_reduce_items\u001b[0;34m(arr, axis, keepdims, where)\u001b[0m\n\u001b[1;32m     75\u001b[0m     items \u001b[38;5;241m=\u001b[39m \u001b[38;5;241m1\u001b[39m\n\u001b[1;32m     76\u001b[0m     \u001b[38;5;28;01mfor\u001b[39;00m ax \u001b[38;5;129;01min\u001b[39;00m axis:\n\u001b[0;32m---> 77\u001b[0m         items \u001b[38;5;241m*\u001b[39m\u001b[38;5;241m=\u001b[39m arr\u001b[38;5;241m.\u001b[39mshape[mu\u001b[38;5;241m.\u001b[39mnormalize_axis_index(ax, arr\u001b[38;5;241m.\u001b[39mndim)]\n\u001b[1;32m     78\u001b[0m     items \u001b[38;5;241m=\u001b[39m nt\u001b[38;5;241m.\u001b[39mintp(items)\n\u001b[1;32m     79\u001b[0m \u001b[38;5;28;01melse\u001b[39;00m:\n\u001b[1;32m     80\u001b[0m     \u001b[38;5;66;03m# TODO: Optimize case when `where` is broadcast along a non-reduction\u001b[39;00m\n\u001b[1;32m     81\u001b[0m     \u001b[38;5;66;03m# axis and full sum is more excessive than needed.\u001b[39;00m\n\u001b[1;32m     82\u001b[0m \n\u001b[1;32m     83\u001b[0m     \u001b[38;5;66;03m# guarded to protect circular imports\u001b[39;00m\n",
      "\u001b[0;31mAxisError\u001b[0m: axis 1 is out of bounds for array of dimension 1"
     ]
    }
   ],
   "source": [
    "rmse_values = {\"Standard\": [], \"4_Modules\": [],  \"4_Hetero_Modules\": [],  \"4_Hetero_Modules_inter\": []}\n",
    "std_values = {\"Standard\": [], \"4_Modules\": [],  \"4_Hetero_Modules\": [],  \"4_Hetero_Modules_inter\": []}\n",
    "results = {\"Standard\": [], \"4_Modules\": [],  \"4_Hetero_Modules\": [],  \"4_Hetero_Modules_inter\": []}\n",
    "for _ in tqdm(range(num_esn_instances), desc=\"Testing ESN instances\"):\n",
    "    instance_rmse = {\"Standard\": [], \"4_Modules\": [],  \"4_Hetero_Modules\": [],  \"4_Hetero_Modules_inter\": []}\n",
    "    for sr in spectral_radii:\n",
    "        \n",
    "        esn_4modular_diff = create_4modular_esn_diff(sr)\n",
    "        esn_4modular_diff.fit(X1[:2000], X1[1:2001], warmup=100)\n",
    "        predictions_4modular_diff = esn_4modular_diff.run(X2[2001:-1])\n",
    "        rmse_4modular_diff = np.sqrt(mean_squared_error(X2[2002:], predictions_4modular_diff))\n",
    "       \n",
    "        esn_4modular_diff_inter = create_4modular_esn_diff(sr)\n",
    "        esn_4modular_diff_inter.fit(X1[:2000], X1[1:2001], warmup=100)\n",
    "        predictions_4modular_diff_inter = esn_4modular_diff_inter.run(X2[2001:-1])\n",
    "        rmse_4modular_diff_inter = np.sqrt(mean_squared_error(X2[2002:], predictions_4modular_diff_inter))       \n",
    "     \n",
    "        esn_4modular = create_4modular_esn(sr)\n",
    "        esn_4modular.fit(X1[:2000], X1[1:2001], warmup=100)\n",
    "        predictions_4modular = esn_4modular.run(X2[2001:-1])\n",
    "        rmse_4modular = np.sqrt(mean_squared_error(X2[2002:], predictions_4modular))\n",
    "        \n",
    "        Standard_esn = create_Standard_esn(sr,100)\n",
    "        Standard_esn.fit(X1[:2000], X1[1:2001], warmup=100)\n",
    "        Standard_predictions = Standard_esn.run(X2[2001:-1])\n",
    "        Standard_rmse = np.sqrt(mean_squared_error(X2[2002:], Standard_predictions))\n",
    "        \n",
    "        instance_rmse[\"4_Hetero_Modules\"].append(min(rmse_4modular_diff*lime, 1))\n",
    "        instance_rmse[\"4_Hetero_Modules_inter\"].append(min(rmse_4modular_diff_inter*lime, 1))\n",
    "        instance_rmse[\"Standard\"].append(min(Standard_rmse*lime, 1))\n",
    "        instance_rmse[\"4_Modules\"].append(min(rmse_4modular*lime, 1))\n",
    "mean_rmse_values = {key: np.mean(val, axis=1) for key, val in results.items()}\n",
    "std_rmse_values = {key: np.std(val, axis=1) for key, val in results.items()}"
   ]
  },
  {
   "cell_type": "code",
   "execution_count": null,
   "metadata": {},
   "outputs": [],
   "source": [
    "plt.figure(figsize=(15, 8))\n",
    "for key in mean_rmse_values:\n",
    "    plt.errorbar(spectral_radii, mean_rmse_values[key], yerr=std_rmse_values[key], label=f\"{key.replace('_', ' ').title()} \", fmt='o-', capsize=5)\n",
    "\n",
    "plt.title('Mean RMSE vs Spectral Radius in Echo State Networks with Error Bars')\n",
    "plt.xlabel('Spectral Radius')\n",
    "plt.ylabel('Mean RMSE')\n",
    "plt.legend()\n",
    "plt.grid(True)\n",
    "plt.show()\n",
    "\n",
    "data_file_path = os.path.join(data_folder_path, \"final_result.pkl\")\n",
    "with open(data_file_path, 'wb') as f:\n",
    "    pickle.dump((mean_rmse_values, std_rmse_values), f)\n",
    "print(\"Results saved to 'final_result.pkl'\")"
   ]
  }
 ],
 "metadata": {
  "kernelspec": {
   "display_name": "base",
   "language": "python",
   "name": "python3"
  },
  "language_info": {
   "codemirror_mode": {
    "name": "ipython",
    "version": 3
   },
   "file_extension": ".py",
   "mimetype": "text/x-python",
   "name": "python",
   "nbconvert_exporter": "python",
   "pygments_lexer": "ipython3",
   "version": "3.11.6"
  }
 },
 "nbformat": 4,
 "nbformat_minor": 2
}
