{
 "cells": [
  {
   "cell_type": "code",
   "execution_count": 1,
   "metadata": {},
   "outputs": [],
   "source": [
    "import reservoirpy as rpy\n",
    "import numpy as np\n",
    "from reservoirpy.node import Node\n",
    "import matplotlib.pyplot as plt\n",
    "\n",
    "# 1. グローバルパラメータの設定\n",
    "rpy.verbosity(0)  # 詳細なログは不要\n",
    "rpy.set_seed(42)  # 再現性を確保"
   ]
  },
  {
   "cell_type": "code",
   "execution_count": 2,
   "metadata": {},
   "outputs": [],
   "source": [
    "class LIFNeuron(Node):\n",
    "    def __init__(self, threshold=1.0, reset_value=0.0, decay=0.95, input_dim=None, output_dim=None, name=\"LIFNeuron\", **kwargs):\n",
    "        # LIFニューロンの閾値、リセット値、減衰率を定義\n",
    "        self.threshold = threshold\n",
    "        self.reset_value = reset_value\n",
    "        self.decay = decay\n",
    "        self.initial_state = None\n",
    "        \n",
    "        # 親クラスの初期化を呼び出す（forward関数とinitializerを設定）\n",
    "        super().__init__(forward=self.lif_forward, initializer=self.lif_initialize, input_dim=input_dim, output_dim=output_dim, name=name, **kwargs)\n",
    "    \n",
    "    def lif_forward(self, node, x):\n",
    "        \"\"\"\n",
    "        LIFニューロンの前向き計算（forward計算）\n",
    "        x: 入力信号\n",
    "        node: ノードオブジェクト（自分自身）\n",
    "        \"\"\"\n",
    "        if self.initial_state is None:\n",
    "            self.initial_state = np.zeros(self.output_dim)\n",
    "        \n",
    "        # 前の状態に対して減衰を適用し、入力を加算\n",
    "        self.initial_state = self.decay * self.initial_state + x\n",
    "\n",
    "        # 発火条件のチェック\n",
    "        spikes = np.where(self.initial_state >= self.threshold, 1.0, 0.0)  # 発火が起きたら1、起きなければ0\n",
    "        self.initial_state = np.where(self.initial_state >= self.threshold, self.reset_value, self.initial_state)  # 発火後はリセット\n",
    "\n",
    "        return spikes\n",
    "\n",
    "    def lif_initialize(self, node, x=None, y=None):\n",
    "        \"\"\"\n",
    "        LIFニューロンの初期化\n",
    "        \"\"\"\n",
    "        if x is not None:\n",
    "            node.set_input_dim(x.shape[1])\n",
    "            node.set_output_dim(x.shape[1])"
   ]
  },
  {
   "cell_type": "code",
   "execution_count": 3,
   "metadata": {},
   "outputs": [
    {
     "data": {
      "image/png": "[encoded data removed]",
      "text/plain": [
       "<Figure size 1000x200 with 1 Axes>"
      ]
     },
     "metadata": {},
     "output_type": "display_data"
    }
   ],
   "source": [
    "if __name__ == \"__main__\":\n",
    "    # テストのための入力データ\n",
    "    inputs = np.random.rand(100, 1)  # 100タイムステップ、1次元のダミー入力データ\n",
    "\n",
    "    # LIFノードの作成\n",
    "    lif_neuron = LIFNeuron(threshold=1.0, reset_value=0.0, decay=0.95, input_dim=1, output_dim=1)\n",
    "\n",
    "    # ノードの初期状態（膜電位）をゼロで初期化\n",
    "    lif_neuron.initialize(x=inputs)\n",
    "\n",
    "    # ノードを通じた処理\n",
    "    spikes = []\n",
    "\n",
    "    for input_t in inputs:\n",
    "        spikes_t = lif_neuron.run(input_t)\n",
    "        spikes.append(spikes_t)\n",
    "\n",
    "    # スパイクを線で可視化\n",
    "    spikes = np.array(spikes).reshape(100, 1)\n",
    "\n",
    "    plt.figure(figsize=(10, 2))  # 縦軸を無視して横に長い図を描画\n",
    "    plt.title(\"LIF Neuron Spikes\")\n",
    "\n",
    "    # 発火したタイムステップにのみ点をプロット\n",
    "    for t, spike in enumerate(spikes):\n",
    "        if spike > 0:\n",
    "            plt.plot([t, t], [0, 0.5], color='k', linestyle='-', linewidth=1)  # 発火したタイムステップに短い黒い縦線を表示\n",
    "\n",
    "    plt.xlabel(\"Time steps\")\n",
    "    plt.yticks([])  # 縦軸のラベルを非表示に\n",
    "    plt.xlim(0, 100)\n",
    "    plt.show()"
   ]
  }
 ],
 "metadata": {
  "kernelspec": {
   "display_name": "base",
   "language": "python",
   "name": "python3"
  },
  "language_info": {
   "codemirror_mode": {
    "name": "ipython",
    "version": 3
   },
   "file_extension": ".py",
   "mimetype": "text/x-python",
   "name": "python",
   "nbconvert_exporter": "python",
   "pygments_lexer": "ipython3",
   "version": "3.11.6"
  }
 },
 "nbformat": 4,
 "nbformat_minor": 2
}
