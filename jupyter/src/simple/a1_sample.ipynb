{
 "cells": [
  {
   "cell_type": "markdown",
   "metadata": {},
   "source": [
    "https://reservoirpy.readthedocs.io/en/latest/user_guide/quickstart.html"
   ]
  },
  {
   "cell_type": "code",
   "execution_count": null,
   "metadata": {},
   "outputs": [
    {
     "ename": "",
     "evalue": "",
     "output_type": "error",
     "traceback": [
      "\u001b[1;31mカーネルを起動できませんでした。 \n",
      "\u001b[1;31mrequest to http://localhost:8888/api/sessions?1731572371902 failed, reason:. \n",
      "\u001b[1;31m詳細については、Jupyter [ログ] (command:jupyter.viewOutput) を参照してください。"
     ]
    }
   ],
   "source": [
    "import reservoirpy as rpy\n",
    "\n",
    "rpy.verbosity(0)  # no need to be too verbose here\n",
    "rpy.set_seed(42)  # make everything reproducible!"
   ]
  },
  {
   "cell_type": "markdown",
   "metadata": {},
   "source": [
    "### 1. リザーバーの定義\n",
    "\n",
    "確認：リザーバーの構造"
   ]
  },
  {
   "cell_type": "code",
   "execution_count": null,
   "metadata": {},
   "outputs": [],
   "source": [
    "from reservoirpy.nodes import Reservoir\n",
    "\n",
    "reservoir = Reservoir(100, lr=0.5, sr=0.9) "
   ]
  },
  {
   "cell_type": "markdown",
   "metadata": {},
   "source": [
    "### 2. 入力データの定義"
   ]
  },
  {
   "cell_type": "code",
   "execution_count": null,
   "metadata": {},
   "outputs": [],
   "source": [
    "import numpy as np\n",
    "import matplotlib.pyplot as plt\n",
    "\n",
    "X = np.sin(np.linspace(0, 6*np.pi, 100)).reshape(-1, 1)\n",
    "print(f\"X.shape: {X.shape}\")\n",
    "\n",
    "plt.figure(figsize=(10, 3))\n",
    "plt.title(\"A sine wave.\")\n",
    "plt.ylabel(\"$sin(t)$\")\n",
    "plt.xlabel(\"$t$\")\n",
    "plt.plot(X)\n",
    "plt.show()"
   ]
  },
  {
   "cell_type": "markdown",
   "metadata": {},
   "source": [
    "### 3. データの入力①: for loop\n",
    "リザーバー状態 = reservoir(入力)"
   ]
  },
  {
   "cell_type": "code",
   "execution_count": null,
   "metadata": {},
   "outputs": [],
   "source": [
    "s = reservoir(X[0].reshape(1, -1))\n",
    "\n",
    "print(\"New state vector shape: \", s.shape)\n",
    "\n",
    "# s = reservoir.state() で状態ベクトルを取得できる"
   ]
  },
  {
   "cell_type": "markdown",
   "metadata": {},
   "source": [
    "全データの入力"
   ]
  },
  {
   "cell_type": "code",
   "execution_count": null,
   "metadata": {},
   "outputs": [],
   "source": [
    "states = np.empty((len(X), reservoir.output_dim))\n",
    "for i in range(len(X)):\n",
    "    states[i] = reservoir(X[i].reshape(1, -1))"
   ]
  },
  {
   "cell_type": "markdown",
   "metadata": {},
   "source": [
    "リザーバーの推移 確認"
   ]
  },
  {
   "cell_type": "code",
   "execution_count": null,
   "metadata": {},
   "outputs": [],
   "source": [
    "plt.figure(figsize=(10, 3))\n",
    "plt.title(\"Activation of 20 reservoir neurons.\")\n",
    "plt.ylabel(\"$reservoir(sin(t))$\")\n",
    "plt.xlabel(\"$t$\")\n",
    "plt.plot(states[:, :20])\n",
    "plt.show()"
   ]
  },
  {
   "cell_type": "markdown",
   "metadata": {},
   "source": [
    "### 4. データの入力①: Run method"
   ]
  },
  {
   "cell_type": "code",
   "execution_count": null,
   "metadata": {},
   "outputs": [],
   "source": [
    "states = reservoir.run(X)"
   ]
  },
  {
   "cell_type": "markdown",
   "metadata": {},
   "source": [
    "### 5. リザーバーの状態: リセット、初期化、途中変更"
   ]
  },
  {
   "cell_type": "code",
   "execution_count": null,
   "metadata": {},
   "outputs": [],
   "source": [
    "from reservoirpy.nodes import Reservoir, Ridge, FORCE, ESN\n",
    "\n",
    "reservoir = reservoir.reset()  # 内部状態をゼロにリセット\n"
   ]
  },
  {
   "cell_type": "code",
   "execution_count": null,
   "metadata": {},
   "outputs": [],
   "source": [
    "states_from_null = reservoir.run(X, reset=True)  # 内部状態をリセットしてから実行"
   ]
  },
  {
   "cell_type": "code",
   "execution_count": null,
   "metadata": {},
   "outputs": [],
   "source": [
    "a_state_vector = np.random.uniform(-1, 1, size=(1, reservoir.output_dim))\n",
    "states_from_a_starting_state = reservoir.run(X, from_state=a_state_vector)  # ランダムな状態から開始"
   ]
  },
  {
   "cell_type": "code",
   "execution_count": null,
   "metadata": {},
   "outputs": [],
   "source": [
    "previous_states = reservoir.run(X)  # 以前の状態で実行\n",
    "\n",
    "with reservoir.with_state(reset=True):\n",
    "    states_from_null = reservoir.run(X)  # 一時的にリセットされた状態で実行\n",
    "\n",
    "# コンテキスト終了後、元の状態に戻る\n",
    "states_from_previous = reservoir.run(X)  # 過去の状態を保持している"
   ]
  },
  {
   "cell_type": "markdown",
   "metadata": {},
   "source": [
    "### 6. リードアウト層の作成"
   ]
  },
  {
   "cell_type": "code",
   "execution_count": null,
   "metadata": {},
   "outputs": [],
   "source": [
    "from reservoirpy.nodes import Ridge\n",
    "\n",
    "readout = Ridge(ridge=1e-7)"
   ]
  },
  {
   "cell_type": "markdown",
   "metadata": {},
   "source": [
    "### 7. 学習データの定義"
   ]
  },
  {
   "cell_type": "code",
   "execution_count": null,
   "metadata": {},
   "outputs": [],
   "source": [
    "X_train = X[:50]\n",
    "Y_train = X[1:51]\n",
    "\n",
    "plt.figure(figsize=(10, 3))\n",
    "plt.title(\"A sine wave and its future.\")\n",
    "plt.xlabel(\"$t$\")\n",
    "plt.plot(X_train, label=\"sin(t)\", color=\"blue\")\n",
    "plt.plot(Y_train, label=\"sin(t+1)\", color=\"red\")\n",
    "plt.legend()\n",
    "plt.show()"
   ]
  },
  {
   "cell_type": "markdown",
   "metadata": {},
   "source": [
    "### 8. 学習"
   ]
  },
  {
   "cell_type": "code",
   "execution_count": null,
   "metadata": {},
   "outputs": [],
   "source": [
    "train_states = reservoir.run(X_train, reset=True)"
   ]
  },
  {
   "cell_type": "code",
   "execution_count": null,
   "metadata": {},
   "outputs": [],
   "source": [
    "readout = readout.fit(train_states, Y_train, warmup=10)"
   ]
  },
  {
   "cell_type": "markdown",
   "metadata": {},
   "source": [
    "### 9. 学習結果確認"
   ]
  },
  {
   "cell_type": "code",
   "execution_count": null,
   "metadata": {},
   "outputs": [],
   "source": [
    "test_states = reservoir.run(X[50:])\n",
    "Y_pred = readout.run(test_states)\n",
    "\n",
    "plt.figure(figsize=(10, 3))\n",
    "plt.title(\"A sine wave and its future.\")\n",
    "plt.xlabel(\"$t$\")\n",
    "plt.plot(Y_pred, label=\"Predicted sin(t)\", color=\"blue\")\n",
    "plt.plot(X[51:], label=\"Real sin(t+1)\", color=\"red\")\n",
    "plt.legend()\n",
    "plt.show()"
   ]
  }
 ],
 "metadata": {
  "kernelspec": {
   "display_name": "myenv",
   "language": "python",
   "name": "python3"
  },
  "language_info": {
   "codemirror_mode": {
    "name": "ipython",
    "version": 3
   },
   "file_extension": ".py",
   "mimetype": "text/x-python",
   "name": "python",
   "nbconvert_exporter": "python",
   "pygments_lexer": "ipython3",
   "version": "3.6.8"
  }
 },
 "nbformat": 4,
 "nbformat_minor": 2
}
